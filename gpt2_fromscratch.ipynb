{
 "cells": [
  {
   "cell_type": "markdown",
   "metadata": {},
   "source": []
  },
  {
   "cell_type": "markdown",
   "metadata": {},
   "source": [
    "## GPT2\n",
    "\n",
    "Large Language Models (LLMs) can be categorized into different structures based on their architecture:\n",
    "\n",
    "1. **Encoder-Only Models**: These models, like BERT, are optimized for understanding and generating embeddings from input text. They are often used for tasks like classification and named entity recognition.\n",
    "\n",
    "2. **Decoder-Only Models**: These models, like GPT-2, are designed for text generation. They predict the next word in a sequence, making them ideal for tasks such as text completion and translation.\n",
    "\n",
    "3. **Encoder-Decoder Models**: These models, like T5, combine both encoder and decoder components. They are versatile and can be used for a wide range of tasks, including text generation and comprehension.\n",
    "To add an image to a markdown cell in Jupyter Notebook, you can use the following syntax:\n",
    "\n",
    "\n",
    "![](./Images/Vision-Transformer-Model-Architecture-1024x746.jpg)\n",
    "\n"
   ]
  },
  {
   "cell_type": "markdown",
   "metadata": {},
   "source": []
  },
  {
   "cell_type": "markdown",
   "metadata": {},
   "source": [
    "The first question is how we can feed a prompt to a model?  "
   ]
  },
  {
   "cell_type": "markdown",
   "metadata": {},
   "source": []
  }
 ],
 "metadata": {
  "language_info": {
   "name": "python"
  }
 },
 "nbformat": 4,
 "nbformat_minor": 2
}
